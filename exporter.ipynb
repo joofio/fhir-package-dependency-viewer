{
 "cells": [
  {
   "cell_type": "code",
   "execution_count": 1,
   "id": "d74bbcdc",
   "metadata": {},
   "outputs": [],
   "source": [
    "import json\n",
    "from datetime import datetime\n",
    "\n",
    "import requests\n",
    "\n",
    "# Step 1: Download\n",
    "url = \"https://fhir.org/guides/stats2/registry.json\"\n",
    "response = requests.get(url)\n",
    "raw = response.json()\n",
    "packages = raw[\"packages\"]\n",
    "\n",
    "# Step 2: Extract simplified data\n",
    "output = []\n",
    "existing_ids = set()\n",
    "dep_ids = set()\n",
    "\n",
    "for key, val in packages.items():\n",
    "    if \"#\" not in key:\n",
    "        continue\n",
    "    name, version = key.split(\"#\")\n",
    "    deps = val.get(\"dependencies\", {})\n",
    "    dep_list = [f\"{dep}#{v}\" for dep, v in deps.items()]\n",
    "    output.append(\n",
    "        {\"id\": key, \"name\": name, \"version\": version, \"dependencies\": dep_list}\n",
    "    )\n",
    "    existing_ids.add(key)\n",
    "    dep_ids.update(dep_list)\n",
    "\n",
    "# Step 3: Add missing dependencies as nodes with no deps\n",
    "missing_dep_ids = dep_ids - existing_ids\n",
    "for dep_id in sorted(missing_dep_ids):\n",
    "    if \"#\" in dep_id:\n",
    "        name, version = dep_id.split(\"#\")\n",
    "        output.append(\n",
    "            {\"id\": dep_id, \"name\": name, \"version\": version, \"dependencies\": []}\n",
    "        )\n",
    "\n",
    "# Step 4: Add timestamp\n",
    "output_data = {\"created\": datetime.now().isoformat(), \"packages\": output}\n",
    "\n",
    "# Step 5: Save to file\n",
    "with open(\"slim_fhir_graph.json\", \"w\") as f:\n",
    "    json.dump(output_data, f, indent=2)"
   ]
  }
 ],
 "metadata": {
  "kernelspec": {
   "display_name": "py3",
   "language": "python",
   "name": "python3"
  },
  "language_info": {
   "codemirror_mode": {
    "name": "ipython",
    "version": 3
   },
   "file_extension": ".py",
   "mimetype": "text/x-python",
   "name": "python",
   "nbconvert_exporter": "python",
   "pygments_lexer": "ipython3",
   "version": "3.12.7"
  }
 },
 "nbformat": 4,
 "nbformat_minor": 5
}
